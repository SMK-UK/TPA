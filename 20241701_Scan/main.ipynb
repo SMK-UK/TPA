{
 "cells": [
  {
   "cell_type": "code",
   "execution_count": null,
   "metadata": {},
   "outputs": [],
   "source": [
    "import data_functions as dat\n",
    "import filter_functions as fil\n",
    "import fitting_functions as fit\n",
    "from math_functions import normalise, normalise_pulse_area, corrected_pulse_area, OD_calc\n",
    "from plotting_functions import plot_scope\n",
    "\n",
    "import config_file\n",
    "from numpy import divide\n",
    "import os"
   ]
  },
  {
   "cell_type": "code",
   "execution_count": null,
   "metadata": {},
   "outputs": [],
   "source": [
    "# import config file dictionary\n",
    "config = config_file.config_params\n",
    "dir = os.path.join(config['root'], config['file'])\n",
    "# get indexes for data channels in the excel files\n",
    "di = config['data_indexes']\n",
    "# make labels from data indexes\n",
    "labels = {key:di[key] for key in di.keys() if key != 'time'}"
   ]
  },
  {
   "cell_type": "code",
   "execution_count": null,
   "metadata": {},
   "outputs": [],
   "source": [
    "# interogate directory to extract folder and file names\n",
    "folder_list, file_list = dat.dir_interogate(path=dir, extensions=config['extensions'], exceptions=config['exceptions'])\n",
    "# create dictionary for indexing folders and files\n",
    "fol_i = dat.make_index_dict(folder_list)\n",
    "fil_i = [dat.make_index_dict(file_sub_list) for file_sub_list in file_list]\n",
    "# assemble reference paths\n",
    "ref_995_path = dat.search_paths(folder_list, file_list, include=config['refs_995'])\n",
    "ref_1550_path = dat.search_paths(folder_list, file_list, include=config['refs_1550'])\n",
    "ref_995_path_list = [os.path.join(dir, x) for x in ref_995_path]\n",
    "ref_1550_path_list = [os.path.join(dir, x) for x in ref_1550_path]\n",
    "# find polarisation numbers from reference file names\n",
    "pols_995 = [dat.find_numbers(os.path.split(path)[1], '\\d+') for path in ref_995_path]\n",
    "pols_1550 = [dat.find_numbers(os.path.split(path)[1], '\\d+') for path in ref_1550_path]\n",
    "# extract excel data from the folders\n",
    "data_path_list = dat.search_paths(folder_list, file_list, config['extensions'])\n",
    "excel_sets = [[dat.open_excel(os.path.join(dir, data_path)) for data_path in data_paths] for data_paths in data_path_list]"
   ]
  },
  {
   "cell_type": "code",
   "execution_count": null,
   "metadata": {},
   "outputs": [],
   "source": [
    "# find index of the polarisation values\n",
    "tpa_pol_1550 = [value for pol in config['pol_1550'] for (key, value) in fol_i.items() if pol in key]\n",
    "tpa_pol_995 = [value for pol in config['pol_995'] for (key, value) in fol_i.items() if pol in key]\n",
    "ref_pol_1550 = [value for pol in config['pol_1550'] for (key, value) in fil_i[fol_i['1550_solo']].items() if pol in key]\n",
    "ref_pol_995 = [value for pol in config['pol_995'] for (key, value) in fil_i[fol_i['995_solo']].items() if pol in key]\n",
    "\n",
    "# create dictionary for index of polarisation max / min - sp is for the folder index, rsp, rcp are for file indexing\n",
    "tpa_i = {'tpa_sph': tpa_pol_1550[0],\n",
    "       'tpa_spl': tpa_pol_1550[1]}\n",
    "\n",
    "pol_i = {'max_sp': ref_pol_1550[0],\n",
    "         'min_sp': ref_pol_1550[1],\n",
    "         'max_cp': ref_pol_995[0],\n",
    "         'min_cp': ref_pol_995[1]}"
   ]
  },
  {
   "cell_type": "code",
   "execution_count": null,
   "metadata": {},
   "outputs": [],
   "source": [
    "# plot 1550 reference data to check assignment\n",
    "x = '1550_solo'\n",
    "fol = fol_i[x]\n",
    "fig, ax = plot_scope(excel_sets[fol][0][:,di['time']], [excel_sets[fol][0][:,di['sp_trans']], excel_sets[fol][0][:,di['sp_ref']], excel_sets[fol][0][:,di['cp_trans']], excel_sets[fol][0][:,di['cp_ref']]], titles=labels, multi=True)\n",
    "print(x)"
   ]
  },
  {
   "cell_type": "code",
   "execution_count": null,
   "metadata": {},
   "outputs": [],
   "source": [
    "# plot 1550 reference data to check assignment\n",
    "x = '995_solo'\n",
    "fol = fol_i[x]\n",
    "fig, ax = plot_scope(excel_sets[fol][0][:,di['time']], [excel_sets[fol][0][:,di['sp_trans']], excel_sets[fol][0][:,di['sp_ref']], excel_sets[fol][0][:,di['cp_trans']], excel_sets[fol][0][:,di['cp_ref']]], titles=labels, multi=True)\n",
    "print(x)"
   ]
  },
  {
   "cell_type": "code",
   "execution_count": null,
   "metadata": {},
   "outputs": [],
   "source": [
    "# plot 1550 reference data to check assignment\n",
    "x = '1550_HWP_230'\n",
    "fol = fol_i[x]\n",
    "fig, ax = plot_scope(excel_sets[fol][0][:,di['time']], [excel_sets[fol][0][:,di['sp_trans']], excel_sets[fol][0][:,di['sp_ref']], excel_sets[fol][0][:,di['cp_trans']], excel_sets[fol][0][:,di['cp_ref']]], titles=labels, multi=True)\n",
    "print(x)"
   ]
  },
  {
   "cell_type": "code",
   "execution_count": null,
   "metadata": {},
   "outputs": [],
   "source": [
    "# plot 1550 reference data to check assignment\n",
    "x = '1550_HWP_280'\n",
    "fol = fol_i[x]\n",
    "fig, ax = plot_scope(excel_sets[fol][0][:,di['time']], [excel_sets[fol][0][:,di['sp_trans']], excel_sets[fol][0][:,di['sp_ref']], excel_sets[fol][0][:,di['cp_trans']], excel_sets[fol][0][:,di['cp_ref']]], titles=labels, multi=True)\n",
    "print(x)"
   ]
  },
  {
   "cell_type": "code",
   "execution_count": null,
   "metadata": {},
   "outputs": [],
   "source": [
    "# indexes for calculations\n",
    "area_indexes = [di['cp_trans'], di['cp_ref'], di['time']]\n",
    "# calculate the normalised reference areas\n",
    "norm_cph = normalise_pulse_area(excel_sets[fol_i['995_solo']][pol_i['max_cp']], area_indexes)\n",
    "norm_cpl = normalise_pulse_area(excel_sets[fol_i['995_solo']][pol_i['min_cp']], area_indexes)\n",
    "# corrected pulse ratios: (control pulse - leakage)/ reference\n",
    "corrected = {'cph_sph': corrected_pulse_area(excel_sets[tpa_i['tpa_sph']][pol_i['max_cp']], excel_sets[fol_i['1550_solo']][pol_i['max_sp']], area_indexes),\n",
    "            'cph_spl': corrected_pulse_area(excel_sets[tpa_i['tpa_spl']][pol_i['max_cp']], excel_sets[fol_i['1550_solo']][pol_i['min_sp']], area_indexes),\n",
    "            'cpl_sph': corrected_pulse_area(excel_sets[tpa_i['tpa_sph']][pol_i['min_cp']], excel_sets[fol_i['1550_solo']][pol_i['max_sp']], area_indexes),\n",
    "            'cpl_spl': corrected_pulse_area(excel_sets[tpa_i['tpa_spl']][pol_i['min_cp']], excel_sets[fol_i['1550_solo']][pol_i['min_sp']], area_indexes)}\n",
    "\n",
    "# calculate OD from pulse areas\n",
    "ratio = {'cph_sph': divide(corrected['cph_sph'], normalise_pulse_area(excel_sets[fol_i['995_solo']][pol_i['max_cp']], (area_indexes))),\n",
    "      'cph_spl': divide(corrected['cph_spl'], normalise_pulse_area(excel_sets[fol_i['995_solo']][pol_i['max_cp']], (area_indexes))),\n",
    "      'cpl_sph': divide(corrected['cpl_sph'], normalise_pulse_area(excel_sets[fol_i['995_solo']][pol_i['max_cp']], (area_indexes))),\n",
    "      'cpl_spl': divide(corrected['cpl_spl'], normalise_pulse_area(excel_sets[fol_i['995_solo']][pol_i['max_cp']], (area_indexes)))}\n",
    "\n",
    "# compile data to save as json dict\n",
    "save_data = {'area' : corrected,\n",
    "             'ratio' : ratio}\n",
    "\n",
    "dat.write_json(os.path.join(dir, config['file'] + '.json'), save_data)"
   ]
  }
 ],
 "metadata": {
  "kernelspec": {
   "display_name": ".lifetime_venv",
   "language": "python",
   "name": "python3"
  },
  "language_info": {
   "codemirror_mode": {
    "name": "ipython",
    "version": 3
   },
   "file_extension": ".py",
   "mimetype": "text/x-python",
   "name": "python",
   "nbconvert_exporter": "python",
   "pygments_lexer": "ipython3",
   "version": "3.11.2"
  }
 },
 "nbformat": 4,
 "nbformat_minor": 2
}
