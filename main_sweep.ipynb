{
 "cells": [
  {
   "cell_type": "markdown",
   "metadata": {},
   "source": [
    "\n",
    "### TPA Data Analysis  \n",
    "\n",
    "        Sean Keenan, PhD Physics  \n",
    "        Quantum Memories Group, Heriot-Watt University, Edinburgh  \n",
    "        2024  "
   ]
  },
  {
   "cell_type": "code",
   "execution_count": 1,
   "metadata": {},
   "outputs": [],
   "source": [
    "import sys\n",
    "# Add the parent directory to the system path\n",
    "sys.path.insert(1, r\"C:\\Users\\keena\\Documents\\University\\python_scripts\")\n",
    "\n",
    "#from Function_files.addresses import Init_Directories\n",
    "\n",
    "import Function_files.data_functions as dat\n",
    "from Function_files.math_functions import corrected_pulse_area\n",
    "from Function_files.plotting_functions import plot_scope\n",
    "\n",
    "from numpy import divide\n",
    "from TPA import TPA_config_new as config_file\n",
    "import os"
   ]
  },
  {
   "cell_type": "code",
   "execution_count": 11,
   "metadata": {},
   "outputs": [],
   "source": [
    "# import config file dictionary\n",
    "config = config_file.config_params\n",
    "config['root'] = r\"c:\\Users\\keena\\Downloads\\0730_TPA\\resonant_2\"\n",
    "dir = os.path.join(config['root'], config['file'])\n",
    "# get indexes for data channels in the excel files\n",
    "di = config['data_indexes']\n",
    "# make labels from data indexes\n",
    "labels = {key:di[key] for key in di.keys() if key != 'time'}\n",
    "powers, durations = dat.extract_dirs(config['root'], 'power', 'duration')"
   ]
  },
  {
   "cell_type": "code",
   "execution_count": 12,
   "metadata": {},
   "outputs": [],
   "source": [
    "config['extensions'] = ['avg.csv']\n",
    "config['exceptions'] =  ['sgl', '.png', '.json']\n",
    "for index, power in enumerate(powers):\n",
    "        for duration in durations[index]:\n",
    "                dir = os.path.join(config['root'], power, duration)\n",
    "                # interogate directory to extract folder and file names\n",
    "                folder_list, file_list = dat.dir_interrogate(path=dir, extensions=config['extensions'], exceptions=config['exceptions'])\n",
    "                # create dictionary for indexing folders and files\n",
    "                fol_i = dat.make_index_dict(folder_list)\n",
    "                fil_i = [dat.make_index_dict(file_sub_list) for file_sub_list in file_list]\n",
    "                # assemble reference paths\n",
    "                ref_995_path = dat.search_paths(folder_list, file_list, include=config['refs_995'])\n",
    "                ref_1550_path = dat.search_paths(folder_list, file_list, include=config['refs_1550'])\n",
    "                ref_995_path_list = [os.path.join(dir, x) for x in ref_995_path]\n",
    "                ref_1550_path_list = [os.path.join(dir, x) for x in ref_1550_path]\n",
    "                # extract excel data from the folders\n",
    "                data_path_list = dat.search_paths(folder_list, file_list, config['extensions'])\n",
    "                excel_sets = [[dat.open_csv(os.path.join(dir, data_path)) for data_path in data_paths] for data_paths in data_path_list]\n",
    "                # find index of the polarisation values\n",
    "                tpa_pol_1550 = [value for pol in config['pol_1550'] for (key, value) in fol_i.items() if pol in key]\n",
    "                tpa_pol_995 = [value for pol in config['pol_995'] for (key, value) in fol_i.items() if pol in key]\n",
    "                ref_pol_1550 = [value for pol in config['pol_1550'] for (key, value) in fil_i[fol_i['solo_1550']].items() if pol in key]\n",
    "                ref_pol_995 = [value for pol in config['pol_995'] for (key, value) in fil_i[fol_i['solo_995']].items() if pol in key]\n",
    "\n",
    "                # create dictionary for index of polarisation max / min - sp is for the folder index, rsp, rcp are for file indexing\n",
    "                tpa_i = {'tpa_spf': tpa_pol_1550[0],\n",
    "                        'tpa_sps': tpa_pol_1550[1]}\n",
    "\n",
    "                pol_i = {'slow_sp': ref_pol_1550[0],\n",
    "                        'fast_sp': ref_pol_1550[1],\n",
    "                        'slow_cp': ref_pol_995[0],\n",
    "                        'fast_cp': ref_pol_995[1]}\n",
    "\n",
    "                # time step of scope timebase\n",
    "                dt = (excel_sets[0][0][:,di['time']][1] - excel_sets[0][0][:,di['time']][0])*1E6\n",
    "                # indexes for calculations\n",
    "                area_indexes_cp = [di['cp_trans'], di['cp_ref'], di['time'], 0, round(4/dt)]\n",
    "                # calculate the normalised reference areas\n",
    "                norm_cpf = corrected_pulse_area(excel_sets[fol_i['solo_995']][pol_i['fast_cp']], area_indexes_cp)\n",
    "                norm_cps = corrected_pulse_area(excel_sets[fol_i['solo_995']][pol_i['slow_cp']], area_indexes_cp)\n",
    "                # corrected pulse ratios: (control pulse - leakage)/ reference\n",
    "                cp_corrected = {'cpf_spf': corrected_pulse_area(excel_sets[tpa_i['tpa_spf']][pol_i['fast_cp']], area_indexes_cp, excel_sets[fol_i['solo_1550']][pol_i['fast_sp']]),\n",
    "                        'cpf_sps': corrected_pulse_area(excel_sets[tpa_i['tpa_sps']][pol_i['fast_cp']], area_indexes_cp, excel_sets[fol_i['solo_1550']][pol_i['slow_sp']]),\n",
    "                        'cps_spf': corrected_pulse_area(excel_sets[tpa_i['tpa_spf']][pol_i['slow_cp']], area_indexes_cp, excel_sets[fol_i['solo_1550']][pol_i['fast_sp']]),\n",
    "                        'cps_sps': corrected_pulse_area(excel_sets[tpa_i['tpa_sps']][pol_i['slow_cp']], area_indexes_cp, excel_sets[fol_i['solo_1550']][pol_i['slow_sp']])}\n",
    "\n",
    "                # calculate ratio from pulse areas\n",
    "                cp_ratio = {'cpf_spf': divide(cp_corrected['cpf_spf'], norm_cpf),\n",
    "                        'cpf_sps': divide(cp_corrected['cpf_sps'], norm_cpf),\n",
    "                        'cps_spf': divide(cp_corrected['cps_spf'], norm_cps),\n",
    "                        'cps_sps': divide(cp_corrected['cps_sps'], norm_cps)}\n",
    "\n",
    "                # compile data to save as json dict\n",
    "                save_data_cp = {'area' : cp_corrected,\n",
    "                        'ratio' : cp_ratio}\n",
    "\n",
    "                dat.write_json(os.path.join(dir, duration + '_CP_avg'), save_data_cp)"
   ]
  }
 ],
 "metadata": {
  "kernelspec": {
   "display_name": ".TPA_venv",
   "language": "python",
   "name": "python3"
  },
  "language_info": {
   "codemirror_mode": {
    "name": "ipython",
    "version": 3
   },
   "file_extension": ".py",
   "mimetype": "text/x-python",
   "name": "python",
   "nbconvert_exporter": "python",
   "pygments_lexer": "ipython3",
   "version": "3.11.1"
  }
 },
 "nbformat": 4,
 "nbformat_minor": 2
}
