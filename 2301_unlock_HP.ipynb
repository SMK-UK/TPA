{
 "cells": [
  {
   "cell_type": "code",
   "execution_count": null,
   "metadata": {},
   "outputs": [],
   "source": [
    "import data_functions as dat\n",
    "import filter_functions as fil\n",
    "import fitting_functions as fit\n",
    "from math_functions import normalise, OD_calc\n",
    "from plotting_functions import plot_scope\n",
    "from scipy.integrate import simpson\n",
    "\n",
    "import os"
   ]
  },
  {
   "cell_type": "code",
   "execution_count": null,
   "metadata": {},
   "outputs": [],
   "source": [
    "directory = r\"C:\\Users\\keena\\Downloads\\TPA\"\n",
    "folder = \"2301_unlock_HP\"\n",
    "\n",
    "dir = os.path.join(directory, folder)\n",
    "\n",
    "exts = ('avg.csv')\n",
    "excs = ['.png']\n",
    "refs_995 = ['995_solo']\n",
    "refs_1550 = ['1550_solo']\n",
    "refs = refs_995 + refs_1550\n",
    "# polarisation for maximum and minimum absorption of both 1550 and 995 pulses\n",
    "pol_1550 = ['230', '280']\n",
    "pol_995 = ['40', '85']"
   ]
  },
  {
   "cell_type": "code",
   "execution_count": null,
   "metadata": {},
   "outputs": [],
   "source": [
    "# interogate directory to extract folder and file names\n",
    "folder_list, file_list = dat.dir_interogate(path=dir, extensions=exts, exceptions=excs)\n",
    "# create dictionary for indexing folders and files\n",
    "fol_i = dat.make_index_dict(folder_list)\n",
    "fil_i = [dat.make_index_dict(file_sub_list) for file_sub_list in file_list]\n",
    "# assemble reference paths\n",
    "ref_995_path = dat.search_paths(folder_list, file_list, include=refs_995)\n",
    "ref_1550_path = dat.search_paths(folder_list, file_list, include=refs_1550)\n",
    "ref_995_path_list = [os.path.join(dir, x) for x in ref_995_path]\n",
    "ref_1550_path_list = [os.path.join(dir, x) for x in ref_1550_path]\n",
    "# find polarisation numbers from reference file names\n",
    "pols_995 = [dat.find_numbers(os.path.split(path)[1], '\\d+') for path in ref_995_path]\n",
    "pols_1550 = [dat.find_numbers(os.path.split(path)[1], '\\d+') for path in ref_1550_path]\n",
    "# extract excel data from the folders\n",
    "data_path_list = dat.search_paths(folder_list, file_list, [exts[0]])\n",
    "excel_sets = [[dat.open_excel(os.path.join(dir, data_path)) for data_path in data_paths] for data_paths in data_path_list]"
   ]
  },
  {
   "cell_type": "code",
   "execution_count": null,
   "metadata": {},
   "outputs": [],
   "source": [
    "# create dictionary for index of channel data\n",
    "i = {'time': 0,\n",
    "     'sp_trans': 1,\n",
    "     'sp_ref': 2,\n",
    "     'cp_trans': 3,\n",
    "     'cp_ref': 4}\n",
    "# make labels for the plots of said data\n",
    "labels = {key:i[key] for key in i.keys() if key != 'time'}"
   ]
  },
  {
   "cell_type": "code",
   "execution_count": null,
   "metadata": {},
   "outputs": [],
   "source": [
    "# find index of the polarisation values\n",
    "tpa_pol_1550 = [value for pol in pol_1550 for (key, value) in fol_i.items() if pol in key]\n",
    "tpa_pol_995 = [value for pol in pol_995 for (key, value) in fol_i.items() if pol in key]\n",
    "ref_pol_1550 = [value for pol in pol_1550 for (key, value) in fil_i[fol_i['1550_solo']].items() if pol in key]\n",
    "ref_pol_995 = [value for pol in pol_995 for (key, value) in fil_i[fol_i['995_solo']].items() if pol in key]\n",
    "# create dictionary for index of polarisation max / min - sp is for the folder index, rsp, rcp are for file indexing\n",
    "p_i = {'tpa_sph': tpa_pol_1550[0],\n",
    "       'tpa_spl': tpa_pol_1550[1],\n",
    "       'max_sp': ref_pol_1550[0],\n",
    "       'min_sp': ref_pol_1550[1],\n",
    "       'max_cp': ref_pol_995[0],\n",
    "       'min_cp': ref_pol_995[1]}"
   ]
  },
  {
   "cell_type": "code",
   "execution_count": null,
   "metadata": {},
   "outputs": [],
   "source": [
    "# plot 1550 reference data to check assignment\n",
    "x = '1550_solo'\n",
    "fol = fol_i[x]\n",
    "fig, ax = plot_scope(excel_sets[fol][0][:,i['time']], [excel_sets[fol][0][:,i['sp_trans']], excel_sets[fol][0][:,i['sp_ref']], excel_sets[fol][0][:,i['cp_trans']], excel_sets[fol][0][:,i['cp_ref']]], titles=labels, multi=True)\n",
    "print(x)"
   ]
  },
  {
   "cell_type": "code",
   "execution_count": null,
   "metadata": {},
   "outputs": [],
   "source": [
    "# plot 1550 reference data to check assignment\n",
    "x = '995_solo'\n",
    "fol = fol_i[x]\n",
    "fig, ax = plot_scope(excel_sets[fol][0][:,i['time']], [excel_sets[fol][0][:,i['sp_trans']], excel_sets[fol][0][:,i['sp_ref']], excel_sets[fol][0][:,i['cp_trans']], excel_sets[fol][0][:,i['cp_ref']]], titles=labels, multi=True)\n",
    "print(x)"
   ]
  },
  {
   "cell_type": "code",
   "execution_count": null,
   "metadata": {},
   "outputs": [],
   "source": [
    "# plot 1550 reference data to check assignment\n",
    "x = '1550_HWP_230'\n",
    "fol = fol_i[x]\n",
    "fig, ax = plot_scope(excel_sets[fol][0][:,i['time']], [excel_sets[fol][0][:,i['sp_trans']], excel_sets[fol][0][:,i['sp_ref']], excel_sets[fol][0][:,i['cp_trans']], excel_sets[fol][0][:,i['cp_ref']]], titles=labels, multi=True)\n",
    "print(x)"
   ]
  },
  {
   "cell_type": "code",
   "execution_count": null,
   "metadata": {},
   "outputs": [],
   "source": [
    "# plot 1550 reference data to check assignment\n",
    "x = '1550_HWP_280'\n",
    "fol = fol_i[x]\n",
    "fig, ax = plot_scope(excel_sets[fol][0][:,i['time']], [excel_sets[fol][0][:,i['sp_trans']], excel_sets[fol][0][:,i['sp_ref']], excel_sets[fol][0][:,i['cp_trans']], excel_sets[fol][0][:,i['cp_ref']]], titles=labels, multi=True)\n",
    "print(x)"
   ]
  },
  {
   "cell_type": "code",
   "execution_count": null,
   "metadata": {},
   "outputs": [],
   "source": [
    "# area for maximum sp and maximum cp polarisation\n",
    "area_sph_cph = simpson(y=excel_sets[p_i['tpa_sph']][p_i['max_cp']][:,i['sp_trans']], x=excel_sets[p_i['tpa_sph']][p_i['max_cp']][:,i['time']])\n",
    "area_sprh_cph = simpson(y=excel_sets[p_i['tpa_sph']][p_i['max_cp']][:,i['sp_ref']], x=excel_sets[p_i['tpa_sph']][p_i['max_cp']][:,i['time']])\n",
    "# area for minimum sp and maximum cp polarisation\n",
    "area_spl_cph = simpson(y=excel_sets[p_i['tpa_spl']][p_i['max_cp']][:,i['sp_trans']], x=excel_sets[p_i['tpa_spl']][p_i['max_cp']][:,i['time']])\n",
    "area_sprl_cph = simpson(y=excel_sets[p_i['tpa_spl']][p_i['max_cp']][:,i['sp_ref']], x=excel_sets[p_i['tpa_spl']][p_i['max_cp']][:,i['time']])\n",
    "# area for maximum sp and minimum cp polarisation\n",
    "area_sph_cpl = simpson(y=excel_sets[p_i['tpa_sph']][p_i['min_cp']][:,i['sp_trans']], x=excel_sets[p_i['tpa_sph']][p_i['min_cp']][:,i['time']])\n",
    "area_sprh_cpl = simpson(y=excel_sets[p_i['tpa_sph']][p_i['min_cp']][:,i['sp_ref']], x=excel_sets[p_i['tpa_sph']][p_i['min_cp']][:,i['time']])\n",
    "# area for minimum sp and minimum cp polarisation\n",
    "area_spl_cpl = simpson(y=excel_sets[p_i['tpa_spl']][p_i['min_cp']][:,i['sp_trans']], x=excel_sets[p_i['tpa_spl']][p_i['min_cp']][:,i['time']])\n",
    "area_sprl_cpl = simpson(y=excel_sets[p_i['tpa_spl']][p_i['min_cp']][:,i['sp_ref']], x=excel_sets[p_i['tpa_spl']][p_i['min_cp']][:,i['time']])"
   ]
  },
  {
   "cell_type": "code",
   "execution_count": null,
   "metadata": {},
   "outputs": [],
   "source": [
    "# area for sp when only cp is present\n",
    "area_sp_cph = simpson(y=excel_sets[fol_i['995_solo']][p_i['max_cp']][:,i['sp_trans']], x=excel_sets[fol_i['995_solo']][p_i['max_cp']][:,i['time']])\n",
    "area_sp_cpl = simpson(y=excel_sets[fol_i['995_solo']][p_i['min_cp']][:,i['sp_trans']], x=excel_sets[fol_i['995_solo']][p_i['min_cp']][:,i['time']])"
   ]
  },
  {
   "cell_type": "code",
   "execution_count": null,
   "metadata": {},
   "outputs": [],
   "source": [
    "# normalised pulse areas (sp_trans when cp on - leakage when only cp solo (sp_trans) / sp_ref when cp on)\n",
    "norm = {'norm_sph_cph': normalise(area_sph_cph, area_sp_cph, area_sprh_cph),\n",
    "        'norm_sph_cpl': normalise(area_sph_cpl, area_sp_cpl, area_sprh_cpl),\n",
    "        'norm_spl_cpl': normalise(area_spl_cpl, area_sp_cpl, area_sprl_cpl),\n",
    "        'norm_spl_cph': normalise(area_spl_cph, area_sp_cph, area_sprl_cph)}\n",
    "\n",
    "dat.write_json(folder + '.json', norm)"
   ]
  }
 ],
 "metadata": {
  "kernelspec": {
   "display_name": ".lifetime_venv",
   "language": "python",
   "name": "python3"
  },
  "language_info": {
   "codemirror_mode": {
    "name": "ipython",
    "version": 3
   },
   "file_extension": ".py",
   "mimetype": "text/x-python",
   "name": "python",
   "nbconvert_exporter": "python",
   "pygments_lexer": "ipython3",
   "version": "3.11.1"
  }
 },
 "nbformat": 4,
 "nbformat_minor": 2
}
