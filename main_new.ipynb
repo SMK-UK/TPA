{
 "cells": [
  {
   "cell_type": "code",
   "execution_count": 1,
   "metadata": {},
   "outputs": [],
   "source": [
    "import sys\n",
    "# Add the parent directory to the system path\n",
    "sys.path.insert(1, r\"C:\\Users\\keena\\Documents\\University\\python_scripts\")\n",
    "\n",
    "#from Function_files.addresses import Init_Directories\n",
    "\n",
    "import Function_files.data_functions as dat\n",
    "from Function_files.math_functions import corrected_pulse_area\n",
    "from Function_files.plotting_functions import plot_scope\n",
    "from numpy import divide\n",
    "from TPA import TPA_config_new as config_file\n",
    "import os"
   ]
  },
  {
   "cell_type": "code",
   "execution_count": 19,
   "metadata": {},
   "outputs": [],
   "source": [
    "# import config file dictionary\n",
    "config = config_file.config_params\n",
    "config['file'] = r'duration_3'\n",
    "config['root'] = r\"c:\\Users\\keena\\Downloads\\0729_TPA\\power_3\"\n",
    "dir = os.path.join(config['root'], config['file'])\n",
    "# get indexes for data channels in the excel files\n",
    "di = config['data_indexes']\n",
    "# make labels from data indexes\n",
    "labels = {key:di[key] for key in di.keys() if key != 'time'}"
   ]
  },
  {
   "cell_type": "code",
   "execution_count": 20,
   "metadata": {},
   "outputs": [],
   "source": [
    "# interogate directory to extract folder and file names\n",
    "folder_list, file_list = dat.dir_interrogate(path=dir, extensions=config['extensions'], exceptions=config['exceptions'])\n",
    "# create dictionary for indexing folders and files\n",
    "fol_i = dat.make_index_dict(folder_list)\n",
    "fil_i = [dat.make_index_dict(file_sub_list) for file_sub_list in file_list]\n",
    "# assemble reference paths\n",
    "ref_995_path = dat.search_paths(folder_list, file_list, include=config['refs_995'])\n",
    "ref_1550_path = dat.search_paths(folder_list, file_list, include=config['refs_1550'])\n",
    "ref_995_path_list = [os.path.join(dir, x) for x in ref_995_path]\n",
    "ref_1550_path_list = [os.path.join(dir, x) for x in ref_1550_path]\n",
    "# extract excel data from the folders\n",
    "data_path_list = dat.search_paths(folder_list, file_list, config['extensions'])\n",
    "excel_sets = [[dat.open_csv(os.path.join(dir, data_path)) for data_path in data_paths] for data_paths in data_path_list]"
   ]
  },
  {
   "cell_type": "code",
   "execution_count": null,
   "metadata": {},
   "outputs": [],
   "source": [
    "# find index of the polarisation values\n",
    "tpa_pol_1550 = [value for pol in config['pol_1550'] for (key, value) in fol_i.items() if pol in key]\n",
    "tpa_pol_995 = [value for pol in config['pol_995'] for (key, value) in fol_i.items() if pol in key]\n",
    "ref_pol_1550 = [value for pol in config['pol_1550'] for (key, value) in fil_i[fol_i['solo_1550']].items() if pol in key]\n",
    "ref_pol_995 = [value for pol in config['pol_995'] for (key, value) in fil_i[fol_i['solo_995']].items() if pol in key]\n",
    "\n",
    "# create dictionary for index of polarisation max / min - sp is for the folder index, rsp, rcp are for file indexing\n",
    "tpa_i = {'tpa_spf': tpa_pol_1550[0],\n",
    "         'tpa_sps': tpa_pol_1550[1]}\n",
    "\n",
    "pol_i = {'slow_sp': ref_pol_1550[0],\n",
    "         'fast_sp': ref_pol_1550[1],\n",
    "         'slow_cp': ref_pol_995[0],\n",
    "         'fast_cp': ref_pol_995[1]}"
   ]
  },
  {
   "cell_type": "code",
   "execution_count": null,
   "metadata": {},
   "outputs": [],
   "source": [
    "# plot 1550 reference data to check assignment\n",
    "x = 'solo_1550'\n",
    "fol = fol_i[x]\n",
    "fig, ax = plot_scope(excel_sets[fol][0][:,di['time']], [excel_sets[fol][0][:,di['sp_trans']], excel_sets[fol][0][:,di['sp_ref']], excel_sets[fol][0][:,di['cp_trans']], excel_sets[fol][0][:,di['cp_ref']]], titles=labels, multi=True)\n",
    "print(x)"
   ]
  },
  {
   "cell_type": "code",
   "execution_count": null,
   "metadata": {},
   "outputs": [],
   "source": [
    "# plot 995 reference data to check assignment\n",
    "x = 'solo_995'\n",
    "fol = fol_i[x]\n",
    "fig, ax = plot_scope(excel_sets[fol][0][:,di['time']], [excel_sets[fol][0][:,di['sp_trans']], excel_sets[fol][0][:,di['sp_ref']], excel_sets[fol][0][:,di['cp_trans']], excel_sets[fol][0][:,di['cp_ref']]], titles=labels, multi=True)\n",
    "print(x)"
   ]
  },
  {
   "cell_type": "code",
   "execution_count": null,
   "metadata": {},
   "outputs": [],
   "source": [
    "# plot 1550 TPA (fast axis) data to check assignment\n",
    "name = folder_list[tpa_i['tpa_spf']]\n",
    "fol = fol_i[name]\n",
    "fig, ax = plot_scope(excel_sets[fol][0][:,di['time']], [excel_sets[fol][0][:,di['sp_trans']], excel_sets[fol][0][:,di['sp_ref']], excel_sets[fol][0][:,di['cp_trans']], excel_sets[fol][0][:,di['cp_ref']]], titles=labels, multi=True)\n",
    "print(name)"
   ]
  },
  {
   "cell_type": "code",
   "execution_count": null,
   "metadata": {},
   "outputs": [],
   "source": [
    "# plot 1550 TPA (slow axis) data to check assignment\n",
    "name = folder_list[tpa_i['tpa_sps']]\n",
    "fol = fol_i[name]\n",
    "fig, ax = plot_scope(excel_sets[fol][0][:,di['time']], [excel_sets[fol][0][:,di['sp_trans']], excel_sets[fol][0][:,di['sp_ref']], excel_sets[fol][0][:,di['cp_trans']], excel_sets[fol][0][:,di['cp_ref']]], titles=labels, multi=True)\n",
    "print(name)"
   ]
  },
  {
   "cell_type": "code",
   "execution_count": null,
   "metadata": {},
   "outputs": [],
   "source": [
    "# time step of scope timebase\n",
    "dt = (excel_sets[0][0][:,di['time']][1] - excel_sets[0][0][:,di['time']][0])*1E6\n",
    "# indexes for calculations\n",
    "area_indexes_cp = [di['cp_trans'], di['cp_ref'], di['time'], 0, round(4/dt)]\n",
    "# calculate the normalised reference areas\n",
    "norm_cpf = corrected_pulse_area(excel_sets[fol_i['solo_995']][pol_i['fast_cp']], area_indexes_cp)\n",
    "norm_cps = corrected_pulse_area(excel_sets[fol_i['solo_995']][pol_i['slow_cp']], area_indexes_cp)\n",
    "# corrected pulse ratios: (control pulse - leakage)/ reference\n",
    "cp_corrected = {'cpf_spf': corrected_pulse_area(excel_sets[tpa_i['tpa_spf']][pol_i['fast_cp']], area_indexes_cp, excel_sets[fol_i['solo_1550']][pol_i['fast_sp']]),\n",
    "            'cpf_sps': corrected_pulse_area(excel_sets[tpa_i['tpa_sps']][pol_i['fast_cp']], area_indexes_cp, excel_sets[fol_i['solo_1550']][pol_i['slow_sp']]),\n",
    "            'cps_spf': corrected_pulse_area(excel_sets[tpa_i['tpa_spf']][pol_i['slow_cp']], area_indexes_cp, excel_sets[fol_i['solo_1550']][pol_i['fast_sp']]),\n",
    "            'cps_sps': corrected_pulse_area(excel_sets[tpa_i['tpa_sps']][pol_i['slow_cp']], area_indexes_cp, excel_sets[fol_i['solo_1550']][pol_i['slow_sp']])}\n",
    "\n",
    "# calculate ratio from pulse areas\n",
    "cp_ratio = {'cpf_spf': divide(cp_corrected['cpf_spf'], norm_cpf),\n",
    "        'cpf_sps': divide(cp_corrected['cpf_sps'], norm_cpf),\n",
    "        'cps_spf': divide(cp_corrected['cps_spf'], norm_cps),\n",
    "        'cps_sps': divide(cp_corrected['cps_sps'], norm_cps)}\n",
    "\n",
    "# compile data to save as json dict\n",
    "save_data_cp = {'area' : cp_corrected,\n",
    "             'ratio' : cp_ratio}\n",
    "\n",
    "dat.write_json(os.path.join(dir, config['file'] + '_CP_avg.json'), save_data_cp)"
   ]
  },
  {
   "cell_type": "code",
   "execution_count": null,
   "metadata": {},
   "outputs": [],
   "source": [
    "import matplotlib.pyplot as mp\n",
    "\n",
    "c_axis = dict(\n",
    "\n",
    "cpf = 1,\n",
    "cps = 2,\n",
    "spf = 2,\n",
    "sps = 1\n",
    "\n",
    ")\n",
    "\n",
    "fig, ax = mp.subplots()\n",
    "ax.plot(cp_ratio['cpf_spf'], fillstyle='full', color='blue', marker='o')\n",
    "ax.plot(cp_ratio['cpf_sps'], fillstyle='full', color='red', marker='s')\n",
    "ax.plot(cp_ratio['cps_spf'], fillstyle='none', color='blue', marker='o')\n",
    "ax.plot(cp_ratio['cps_sps'], fillstyle='none', color='red', marker='s')\n",
    "\n",
    "ax.legend([f\"1550nm E-field along D$_{c_axis['spf']}$, 995nm E-field along D$_{c_axis['cpf']}$\", f\"1550nm E-field along D$_{c_axis['sps']}$, 995nm E-field along D$_{c_axis['cpf']}$\", \n",
    "              f\"1550nm E-field along D$_{c_axis['spf']}$, 995nm E-field along D$_{c_axis['cps']}$\", f\"1550nm E-field along D$_{c_axis['sps']}$, 995nm E-field along D$_{c_axis['cps']}$\"])\n",
    "\n",
    "fig.tight_layout(w_pad=2, rect=[0.05, 0.05, 1, 1])\n",
    "\n",
    "fig.supxlabel('')\n",
    "fig.supylabel('Transmission of 995nm Pulses')"
   ]
  }
 ],
 "metadata": {
  "kernelspec": {
   "display_name": ".lifetime_venv",
   "language": "python",
   "name": "python3"
  },
  "language_info": {
   "codemirror_mode": {
    "name": "ipython",
    "version": 3
   },
   "file_extension": ".py",
   "mimetype": "text/x-python",
   "name": "python",
   "nbconvert_exporter": "python",
   "pygments_lexer": "ipython3",
   "version": "3.11.1"
  }
 },
 "nbformat": 4,
 "nbformat_minor": 2
}
