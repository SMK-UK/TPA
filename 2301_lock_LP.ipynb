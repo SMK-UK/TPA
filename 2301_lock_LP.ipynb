{
 "cells": [
  {
   "cell_type": "code",
   "execution_count": null,
   "metadata": {},
   "outputs": [],
   "source": [
    "import data_functions as dat\n",
    "import filter_functions as fil\n",
    "import fitting_functions as fit\n",
    "from math_functions import normalise, OD_calc\n",
    "from plotting_functions import plot_scope\n",
    "from scipy.integrate import simpson\n",
    "import numpy as np\n",
    "\n",
    "import os"
   ]
  },
  {
   "cell_type": "code",
   "execution_count": null,
   "metadata": {},
   "outputs": [],
   "source": [
    "directory = r\"C:\\Users\\sk88\\Dropbox (Heriot-Watt University Team)\\RES_EPS_Quantum_Photonics_Lab\\Experiments\\Current Experiments\\BB Telecom QM\\2024_PrYSO\\TPA\"\n",
    "folder = \"2301_lock_LP\"\n",
    "\n",
    "dir = os.path.join(directory, folder)\n",
    "\n",
    "exts = ('avg.csv')\n",
    "excs = ['.png']\n",
    "refs_995 = ['995_solo']\n",
    "refs_1550 = ['1550_solo']\n",
    "refs = refs_995 + refs_1550\n",
    "# polarisation for maximum and minimum absorption of both 1550 and 995 pulses\n",
    "pol_1550 = ['280', '230']\n",
    "pol_995 = ['40', '85']"
   ]
  },
  {
   "cell_type": "code",
   "execution_count": null,
   "metadata": {},
   "outputs": [],
   "source": [
    "# interogate directory to extract folder and file names\n",
    "folder_list, file_list = dat.dir_interogate(path=dir, extensions=exts, exceptions=excs)\n",
    "# create dictionary for indexing folders and files\n",
    "fol_i = dat.make_index_dict(folder_list)\n",
    "fil_i = [dat.make_index_dict(file_sub_list) for file_sub_list in file_list]\n",
    "# assemble reference paths\n",
    "ref_995_path = dat.search_paths(folder_list, file_list, include=refs_995)\n",
    "ref_1550_path = dat.search_paths(folder_list, file_list, include=refs_1550)\n",
    "ref_995_path_list = [os.path.join(dir, x) for x in ref_995_path]\n",
    "ref_1550_path_list = [os.path.join(dir, x) for x in ref_1550_path]\n",
    "# find polarisation numbers from reference file names\n",
    "pols_995 = [dat.find_numbers(os.path.split(path)[1], '\\d+') for path in ref_995_path]\n",
    "pols_1550 = [dat.find_numbers(os.path.split(path)[1], '\\d+') for path in ref_1550_path]\n",
    "# extract excel data from the folders\n",
    "data_path_list = dat.search_paths(folder_list, file_list, [exts[0]])\n",
    "excel_sets = [[dat.open_excel(os.path.join(dir, data_path)) for data_path in data_paths] for data_paths in data_path_list]"
   ]
  },
  {
   "cell_type": "code",
   "execution_count": null,
   "metadata": {},
   "outputs": [],
   "source": [
    "# create dictionary for index of channel data\n",
    "i = {'time': 0,\n",
    "     'sp_trans': 1,\n",
    "     'sp_ref': 2,\n",
    "     'cp_trans': 3,\n",
    "     'cp_ref': 4}\n",
    "# make labels for the plots of said data\n",
    "labels = {key:i[key] for key in i.keys() if key != 'time'}"
   ]
  },
  {
   "cell_type": "code",
   "execution_count": null,
   "metadata": {},
   "outputs": [],
   "source": [
    "fol_i, fil_i"
   ]
  },
  {
   "cell_type": "code",
   "execution_count": null,
   "metadata": {},
   "outputs": [],
   "source": [
    "# find index of the polarisation values\n",
    "tpa_pol_1550 = [value for pol in pol_1550 for (key, value) in fol_i.items() if pol in key]\n",
    "tpa_pol_995 = [value for pol in pol_995 for (key, value) in fol_i.items() if pol in key]\n",
    "ref_pol_1550 = [value for pol in pol_1550 for (key, value) in fil_i[fol_i['1550_solo']].items() if pol in key]\n",
    "ref_pol_995 = [value for pol in pol_995 for (key, value) in fil_i[fol_i['995_solo']].items() if pol in key]\n",
    "# create dictionary for index of polarisation max / min - sp is for the folder index, rsp, rcp are for file indexing\n",
    "p_i = {'tpa_sph': tpa_pol_1550[0],\n",
    "       'tpa_spl': tpa_pol_1550[1],\n",
    "       'max_sp': ref_pol_1550[0],\n",
    "       'min_sp': ref_pol_1550[1],\n",
    "       'max_cp': ref_pol_995[0],\n",
    "       'min_cp': ref_pol_995[1]}"
   ]
  },
  {
   "cell_type": "code",
   "execution_count": 27,
   "metadata": {},
   "outputs": [
    {
     "name": "stdout",
     "output_type": "stream",
     "text": [
      "{'tpa_sph': 2, 'tpa_spl': 1, 'max_sp': 1, 'min_sp': 0, 'max_cp': 0, 'min_cp': 1}\n",
      "{'995_solo': 0, '1550_HWP_230': 1, '1550_HWP_280': 2, '1550_solo': 3}\n"
     ]
    }
   ],
   "source": [
    "print(p_i)\n",
    "print(fol_i)"
   ]
  },
  {
   "cell_type": "code",
   "execution_count": null,
   "metadata": {},
   "outputs": [],
   "source": [
    "# plot 1550 reference data to check assignment\n",
    "x = '1550_solo'\n",
    "fol = fol_i[x]\n",
    "fig, ax = plot_scope(excel_sets[fol][0][:,i['time']], [excel_sets[fol][0][:,i['sp_trans']], excel_sets[fol][0][:,i['sp_ref']], excel_sets[fol][0][:,i['cp_trans']], excel_sets[fol][0][:,i['cp_ref']]], titles=labels, multi=True)\n",
    "print(x)"
   ]
  },
  {
   "cell_type": "code",
   "execution_count": null,
   "metadata": {},
   "outputs": [],
   "source": [
    "# plot 1550 reference data to check assignment\n",
    "x = '995_solo'\n",
    "fol = fol_i[x]\n",
    "fig, ax = plot_scope(excel_sets[fol][0][:,i['time']], [excel_sets[fol][0][:,i['sp_trans']], excel_sets[fol][0][:,i['sp_ref']], excel_sets[fol][0][:,i['cp_trans']], excel_sets[fol][0][:,i['cp_ref']]], titles=labels, multi=True)\n",
    "print(x)"
   ]
  },
  {
   "cell_type": "code",
   "execution_count": null,
   "metadata": {},
   "outputs": [],
   "source": [
    "# plot 1550 reference data to check assignment\n",
    "x = '1550_HWP_230'\n",
    "fol = fol_i[x]\n",
    "fig, ax = plot_scope(excel_sets[fol][0][:,i['time']], [excel_sets[fol][0][:,i['sp_trans']], excel_sets[fol][0][:,i['sp_ref']], excel_sets[fol][0][:,i['cp_trans']], excel_sets[fol][0][:,i['cp_ref']]], titles=labels, multi=True)\n",
    "print(x)"
   ]
  },
  {
   "cell_type": "code",
   "execution_count": null,
   "metadata": {},
   "outputs": [],
   "source": [
    "len(excel_sets), len(excel_sets[0]), len(excel_sets[0][0][0])"
   ]
  },
  {
   "cell_type": "code",
   "execution_count": null,
   "metadata": {},
   "outputs": [],
   "source": [
    "# plot 1550 reference data to check assignment\n",
    "x = '1550_HWP_280'\n",
    "fol = fol_i[x]\n",
    "fig, ax = plot_scope(excel_sets[fol][0][:,i['time']], [excel_sets[fol][0][:,i['sp_trans']], excel_sets[fol][0][:,i['sp_ref']], excel_sets[fol][0][:,i['cp_trans']], excel_sets[fol][0][:,i['cp_ref']]], titles=labels, multi=True)\n",
    "print(x)"
   ]
  },
  {
   "cell_type": "code",
   "execution_count": null,
   "metadata": {},
   "outputs": [],
   "source": []
  },
  {
   "cell_type": "code",
   "execution_count": null,
   "metadata": {},
   "outputs": [],
   "source": [
    "# area for maximum sp and maximum cp polarisation\n",
    "area_cph_sph = simpson(y=excel_sets[p_i['tpa_sph']][p_i['max_cp']][:,i['cp_trans']], x=excel_sets[p_i['tpa_sph']][p_i['max_cp']][:,i['time']])\n",
    "area_cprh_sph = simpson(y=excel_sets[p_i['tpa_sph']][p_i['max_cp']][:,i['cp_ref']], x=excel_sets[p_i['tpa_sph']][p_i['max_cp']][:,i['time']])\n",
    "norm_cph_sph = normalise(area_cph_sph, area_cprh_sph)\n",
    "# area for minimum sp and maximum cp polarisation\n",
    "area_cph_spl = simpson(y=excel_sets[p_i['tpa_spl']][p_i['max_cp']][:,i['cp_trans']], x=excel_sets[p_i['tpa_spl']][p_i['max_cp']][:,i['time']])\n",
    "area_cprh_spl = simpson(y=excel_sets[p_i['tpa_spl']][p_i['max_cp']][:,i['cp_ref']], x=excel_sets[p_i['tpa_spl']][p_i['max_cp']][:,i['time']])\n",
    "norm_cph_spl = normalise(area_cph_spl, area_cprh_spl)\n",
    "# area for maximum sp and minimum cp polarisation\n",
    "area_cpl_sph = simpson(y=excel_sets[p_i['tpa_sph']][p_i['min_cp']][:,i['cp_trans']], x=excel_sets[p_i['tpa_sph']][p_i['min_cp']][:,i['time']])\n",
    "area_cprl_sph = simpson(y=excel_sets[p_i['tpa_sph']][p_i['min_cp']][:,i['cp_ref']], x=excel_sets[p_i['tpa_sph']][p_i['min_cp']][:,i['time']])\n",
    "norm_cpl_sph = normalise(area_cpl_sph, area_cprl_sph)\n",
    "# area for minimum sp and minimum cp polarisation\n",
    "area_cpl_spl = simpson(y=excel_sets[p_i['tpa_spl']][p_i['min_cp']][:,i['cp_trans']], x=excel_sets[p_i['tpa_spl']][p_i['min_cp']][:,i['time']])\n",
    "area_cprl_spl = simpson(y=excel_sets[p_i['tpa_spl']][p_i['min_cp']][:,i['cp_ref']], x=excel_sets[p_i['tpa_spl']][p_i['min_cp']][:,i['time']])\n",
    "norm_cpl_spl = normalise(area_cpl_spl, area_cprl_spl)"
   ]
  },
  {
   "cell_type": "code",
   "execution_count": null,
   "metadata": {},
   "outputs": [],
   "source": [
    "# area for cp when only sp is present for maximum polarisation\n",
    "area_sph_cp = simpson(y=excel_sets[fol_i['1550_solo']][p_i['max_sp']][:,i['cp_trans']], x=excel_sets[fol_i['1550_solo']][p_i['max_sp']][:,i['time']])\n",
    "area_sph_cpr = simpson(y=excel_sets[fol_i['1550_solo']][p_i['max_sp']][:,i['cp_ref']], x=excel_sets[fol_i['1550_solo']][p_i['max_sp']][:,i['time']])\n",
    "norm_sph_cp = normalise(area_sph_cp, area_sph_cpr)\n",
    "# area for cp when only sp is present for minimum polarisation\n",
    "area_spl_cp = simpson(y=excel_sets[fol_i['1550_solo']][p_i['min_sp']][:,i['cp_trans']], x=excel_sets[fol_i['1550_solo']][p_i['min_sp']][:,i['time']])\n",
    "area_spl_cpr = simpson(y=excel_sets[fol_i['1550_solo']][p_i['min_sp']][:,i['cp_ref']], x=excel_sets[fol_i['1550_solo']][p_i['min_sp']][:,i['time']])\n",
    "norm_spl_cp = normalise(area_spl_cp, area_spl_cpr)\n",
    "# area for cp when only cp is present for maximum polarisation\n",
    "area_cph_cp = simpson(y=excel_sets[fol_i['995_solo']][p_i['max_cp']][:,i['cp_trans']], x=excel_sets[fol_i['995_solo']][p_i['max_cp']][:,i['time']])\n",
    "area_cph_cpr = simpson(y=excel_sets[fol_i['995_solo']][p_i['max_cp']][:,i['cp_ref']], x=excel_sets[fol_i['995_solo']][p_i['max_cp']][:,i['time']])\n",
    "norm_cph_cp = normalise(area_cph_cp, area_cph_cpr)\n",
    "# area for cp when only cp is present for minimum polarisation\n",
    "area_cpl_cp = simpson(y=excel_sets[fol_i['995_solo']][p_i['min_cp']][:,i['cp_trans']], x=excel_sets[fol_i['995_solo']][p_i['min_cp']][:,i['time']])\n",
    "area_cpl_cpr = simpson(y=excel_sets[fol_i['995_solo']][p_i['min_cp']][:,i['cp_ref']], x=excel_sets[fol_i['995_solo']][p_i['min_cp']][:,i['time']])\n",
    "norm_cpl_cp = normalise(area_cpl_cp, area_cpl_cpr)"
   ]
  },
  {
   "cell_type": "code",
   "execution_count": null,
   "metadata": {},
   "outputs": [],
   "source": [
    "import numpy as np\n",
    "\n",
    "# corrected pulse areas (control pulse - leakage)\n",
    "corrected = {'corrected_cph_sph': np.subtract(norm_cph_sph, norm_sph_cp),\n",
    "            'corrected_cph_spl': np.subtract(norm_cph_spl, norm_spl_cp),\n",
    "            'corrected_cpl_sph': np.subtract(norm_cpl_sph, norm_sph_cp),\n",
    "            'corrected_cpl_spl': np.subtract(norm_cpl_spl, norm_spl_cp)}\n",
    "\n",
    "#dat.write_json(folder + '_norm_995_area.json', norm)"
   ]
  },
  {
   "cell_type": "code",
   "execution_count": 25,
   "metadata": {},
   "outputs": [
    {
     "data": {
      "text/plain": [
       "[<matplotlib.lines.Line2D at 0x1ed21d38910>]"
      ]
     },
     "execution_count": 25,
     "metadata": {},
     "output_type": "execute_result"
    },
    {
     "data": {
      "image/png": "[encoded data removed]",
      "text/plain": [
       "<Figure size 480x320 with 1 Axes>"
      ]
     },
     "metadata": {},
     "output_type": "display_data"
    },
    {
     "data": {
      "image/png": "[encoded data removed]",
      "text/plain": [
       "<Figure size 480x320 with 1 Axes>"
      ]
     },
     "metadata": {},
     "output_type": "display_data"
    }
   ],
   "source": [
    "import matplotlib.pyplot as mp\n",
    "mp.figure()\n",
    "mp.plot(corrected['corrected_cph_sph'], 'x')\n",
    "mp.plot(corrected['corrected_cph_spl'], 'x')\n",
    "mp.figure()\n",
    "mp.plot(corrected['corrected_cpl_sph'], 'x')\n",
    "mp.plot(corrected['corrected_cpl_spl'], 'x')"
   ]
  },
  {
   "cell_type": "code",
   "execution_count": null,
   "metadata": {},
   "outputs": [],
   "source": [
    "# OD from pulse areas\n",
    "od = {'od_cph_sph': OD_calc(norm_cph_cp, corrected['corrected_cph_sph']),\n",
    "      'od_cph_spl': OD_calc(norm_cph_cp, corrected['corrected_cph_spl']),\n",
    "      'od_cpl_sph': OD_calc(norm_cpl_cp, corrected['corrected_cpl_sph']),\n",
    "      'od_cpl_spl': OD_calc(norm_cpl_cp, corrected['corrected_cpl_spl'])}\n",
    "\n",
    "dat.write_json(folder + '_od_995.json', od)"
   ]
  },
  {
   "cell_type": "code",
   "execution_count": null,
   "metadata": {},
   "outputs": [],
   "source": [
    "import matplotlib.pyplot as mp\n",
    "mp.figure()\n",
    "mp.plot(od['od_cph_sph'], 'x')\n",
    "mp.plot(od['od_cph_spl'], 'x')\n",
    "mp.figure()\n",
    "mp.plot(od['od_cpl_sph'], 'x')\n",
    "mp.plot(od['od_cpl_spl'], 'x')"
   ]
  }
 ],
 "metadata": {
  "kernelspec": {
   "display_name": ".lifetime_venv",
   "language": "python",
   "name": "python3"
  },
  "language_info": {
   "codemirror_mode": {
    "name": "ipython",
    "version": 3
   },
   "file_extension": ".py",
   "mimetype": "text/x-python",
   "name": "python",
   "nbconvert_exporter": "python",
   "pygments_lexer": "ipython3",
   "version": "3.11.2"
  }
 },
 "nbformat": 4,
 "nbformat_minor": 2
}
